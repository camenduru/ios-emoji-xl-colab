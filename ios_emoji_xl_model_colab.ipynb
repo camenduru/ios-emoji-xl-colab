{
  "cells": [
    {
      "cell_type": "markdown",
      "metadata": {
        "id": "view-in-github"
      },
      "source": [
        "[![Open In Colab](https://colab.research.google.com/assets/colab-badge.svg)](https://colab.research.google.com/github/camenduru/ios-emoji-xl-model-colab/blob/main/ios_emoji_xl_model_colab.ipynb)"
      ]
    },
    {
      "cell_type": "code",
      "execution_count": null,
      "metadata": {
        "id": "VjYy0F2gZIPR"
      },
      "outputs": [],
      "source": [
        "!pip install diffusers==0.20.2\n",
        "from diffusers import StableDiffusionXLPipeline\n",
        "import torch\n",
        "!wget https://huggingface.co/camenduru/ios-emoji-xl/resolve/main/ios_emoji_xl_lora.safetensors -O /content/ios_emoji_xl_lora.safetensors\n",
        "pipe = StableDiffusionXLPipeline.from_pretrained('stabilityai/stable-diffusion-xl-base-1.0', safety_checker=None, torch_dtype=torch.float16).to(\"cuda\")\n",
        "pipe.load_lora_weights('/content/ios_emoji_xl_lora.safetensors', lora_scale=0.6)\n",
        "pipe.enable_xformers_memory_efficient_attention()"
      ]
    },
    {
      "cell_type": "code",
      "execution_count": null,
      "metadata": {},
      "outputs": [],
      "source": [
        "image = pipe(\"a photo of a woman with purple shirt giving a peace sign and smiling\").images[0]\n",
        "image"
      ]
    }
  ],
  "metadata": {
    "accelerator": "GPU",
    "colab": {
      "gpuType": "T4",
      "provenance": []
    },
    "kernelspec": {
      "display_name": "Python 3",
      "name": "python3"
    },
    "language_info": {
      "name": "python"
    }
  },
  "nbformat": 4,
  "nbformat_minor": 0
}
